{
  "nbformat": 4,
  "nbformat_minor": 0,
  "metadata": {
    "colab": {
      "provenance": [],
      "authorship_tag": "ABX9TyNkdCHz4bbY3KWHETQ0YRIS",
      "include_colab_link": true
    },
    "kernelspec": {
      "name": "python3",
      "display_name": "Python 3"
    },
    "language_info": {
      "name": "python"
    }
  },
  "cells": [
    {
      "cell_type": "markdown",
      "metadata": {
        "id": "view-in-github",
        "colab_type": "text"
      },
      "source": [
        "<a href=\"https://colab.research.google.com/github/namita0210/DataSciencePRojects/blob/main/topicModelling_LDA_chatGPT.ipynb\" target=\"_parent\"><img src=\"https://colab.research.google.com/assets/colab-badge.svg\" alt=\"Open In Colab\"/></a>"
      ]
    },
    {
      "cell_type": "code",
      "source": [
        "pip install faker"
      ],
      "metadata": {
        "colab": {
          "base_uri": "https://localhost:8080/"
        },
        "id": "QF7eo7k0sVc2",
        "outputId": "a7c83ff4-d2bd-4d0b-d6f2-b1da6f4c4371"
      },
      "execution_count": null,
      "outputs": [
        {
          "output_type": "stream",
          "name": "stdout",
          "text": [
            "Requirement already satisfied: faker in /usr/local/lib/python3.10/dist-packages (19.6.0)\n",
            "Requirement already satisfied: python-dateutil>=2.4 in /usr/local/lib/python3.10/dist-packages (from faker) (2.8.2)\n",
            "Requirement already satisfied: six>=1.5 in /usr/local/lib/python3.10/dist-packages (from python-dateutil>=2.4->faker) (1.16.0)\n"
          ]
        }
      ]
    },
    {
      "cell_type": "markdown",
      "source": [
        "Imports\n"
      ],
      "metadata": {
        "id": "x6j9U8_XYmHM"
      }
    },
    {
      "cell_type": "code",
      "execution_count": null,
      "metadata": {
        "colab": {
          "base_uri": "https://localhost:8080/"
        },
        "id": "t5Dy53lIYgZb",
        "outputId": "26014fa9-0955-465e-c89c-b9e04ba74aaf"
      },
      "outputs": [
        {
          "output_type": "stream",
          "name": "stderr",
          "text": [
            "[nltk_data] Downloading package stopwords to /root/nltk_data...\n",
            "[nltk_data]   Package stopwords is already up-to-date!\n",
            "[nltk_data] Downloading package punkt to /root/nltk_data...\n",
            "[nltk_data]   Package punkt is already up-to-date!\n"
          ]
        },
        {
          "output_type": "execute_result",
          "data": {
            "text/plain": [
              "True"
            ]
          },
          "metadata": {},
          "execution_count": 9
        }
      ],
      "source": [
        "import pandas as pd\n",
        "import nltk\n",
        "import random\n",
        "from faker import Faker\n",
        "import re\n",
        "import string\n",
        "from nltk.corpus import stopwords\n",
        "nltk.download('stopwords')\n",
        "from nltk.tokenize import word_tokenize\n",
        "from nltk.tokenize import sent_tokenize # for this punctuation is required\n",
        "nltk.download('punkt')"
      ]
    },
    {
      "cell_type": "markdown",
      "source": [
        "**<h1>Data with stop words and noise, created with prompt engineering**</h1><br>\n",
        "generate a list of thirty made up problems that could occur while using the following applications\n",
        "\n",
        " *  slack\n",
        " *  ppt\n",
        " *  one drive\n",
        " *  share point <br>\n",
        "in the form of a python dictionary\n",
        "also include the following keys which should have values like those that are provided:\n",
        "1. \" number\" : INC3422521\n",
        "2.\"ci\" : one drive, slack, ppt, share point\n",
        "3. \"week_start_date\" : 2023-05-15\n",
        "4. \"description\" : issue in managing file permission in one drive, this column must have some URLs, email ids, stopwords and other textual data which can be cleaned using NLP techniques"
      ],
      "metadata": {
        "id": "e2NB0P2OZYFu"
      }
    },
    {
      "cell_type": "code",
      "source": [
        "import random\n",
        "from faker import Faker\n",
        "\n",
        "# Initialize the Faker generator\n",
        "faker = Faker()\n",
        "\n",
        "# List of possible application options\n",
        "app_options = [\"slack\", \"ppt\", \"one drive\", \"share point\"]\n",
        "\n",
        "# List of made-up problems\n",
        "problem_descriptions = [\n",
        "    \"Messages are not syncing properly in Slack.\",\n",
        "    \"PowerPoint application crashes when adding animations.\",\n",
        "    # ... (the rest of the problem descriptions)\n",
        "    \"Slack notifications are not being delivered to mobile devices.\",\n",
        "    \"PPT animations are not playing during the slideshow.\"\n",
        "]\n",
        "\n",
        "# Generate a list of 100 dictionaries with random problems and other fixed values\n",
        "data = []\n",
        "for _ in range(100):\n",
        "    app = random.choice(app_options)\n",
        "    description = random.choice(problem_descriptions)\n",
        "    description += f\" More information can be found at {faker.url()}.\"  # Placeholder URL\n",
        "    description += f\" Contact us at {faker.email()} for assistance.\"  # Placeholder email ID\n",
        "    data.append({\n",
        "        \"number\": \"INC3422521\",\n",
        "        \"ci\": app,\n",
        "        \"week_start_date\": \"2023-05-15\",\n",
        "        \"description\": description\n",
        "    })\n"
      ],
      "metadata": {
        "id": "rJtbVUJiZEG9",
        "colab": {
          "base_uri": "https://localhost:8080/"
        },
        "outputId": "7bf7fdbb-4671-45b8-92af-6bce47f5f666"
      },
      "execution_count": null,
      "outputs": [
        {
          "output_type": "stream",
          "name": "stderr",
          "text": [
            "/usr/local/lib/python3.10/dist-packages/ipykernel/ipkernel.py:283: DeprecationWarning: `should_run_async` will not call `transform_cell` automatically in the future. Please pass the result to `transformed_cell` argument and any exception that happen during thetransform in `preprocessing_exc_tuple` in IPython 7.17 and above.\n",
            "  and should_run_async(code)\n"
          ]
        }
      ]
    },
    {
      "cell_type": "code",
      "source": [
        "df = pd.DataFrame(data)\n",
        "df.tail(3)"
      ],
      "metadata": {
        "colab": {
          "base_uri": "https://localhost:8080/",
          "height": 199
        },
        "id": "TTyPiC2UZWkU",
        "outputId": "0d9f28b4-bc47-4464-9982-9181cf0b8294"
      },
      "execution_count": null,
      "outputs": [
        {
          "output_type": "stream",
          "name": "stderr",
          "text": [
            "/usr/local/lib/python3.10/dist-packages/ipykernel/ipkernel.py:283: DeprecationWarning: `should_run_async` will not call `transform_cell` automatically in the future. Please pass the result to `transformed_cell` argument and any exception that happen during thetransform in `preprocessing_exc_tuple` in IPython 7.17 and above.\n",
            "  and should_run_async(code)\n"
          ]
        },
        {
          "output_type": "execute_result",
          "data": {
            "text/plain": [
              "        number     ci week_start_date  \\\n",
              "97  INC3422521  slack      2023-05-15   \n",
              "98  INC3422521    ppt      2023-05-15   \n",
              "99  INC3422521    ppt      2023-05-15   \n",
              "\n",
              "                                          description  \n",
              "97  PPT animations are not playing during the slid...  \n",
              "98  PowerPoint application crashes when adding ani...  \n",
              "99  PPT animations are not playing during the slid...  "
            ],
            "text/html": [
              "\n",
              "  <div id=\"df-94cc7aa7-a6a0-4341-b597-c96f03b446a8\" class=\"colab-df-container\">\n",
              "    <div>\n",
              "<style scoped>\n",
              "    .dataframe tbody tr th:only-of-type {\n",
              "        vertical-align: middle;\n",
              "    }\n",
              "\n",
              "    .dataframe tbody tr th {\n",
              "        vertical-align: top;\n",
              "    }\n",
              "\n",
              "    .dataframe thead th {\n",
              "        text-align: right;\n",
              "    }\n",
              "</style>\n",
              "<table border=\"1\" class=\"dataframe\">\n",
              "  <thead>\n",
              "    <tr style=\"text-align: right;\">\n",
              "      <th></th>\n",
              "      <th>number</th>\n",
              "      <th>ci</th>\n",
              "      <th>week_start_date</th>\n",
              "      <th>description</th>\n",
              "    </tr>\n",
              "  </thead>\n",
              "  <tbody>\n",
              "    <tr>\n",
              "      <th>97</th>\n",
              "      <td>INC3422521</td>\n",
              "      <td>slack</td>\n",
              "      <td>2023-05-15</td>\n",
              "      <td>PPT animations are not playing during the slid...</td>\n",
              "    </tr>\n",
              "    <tr>\n",
              "      <th>98</th>\n",
              "      <td>INC3422521</td>\n",
              "      <td>ppt</td>\n",
              "      <td>2023-05-15</td>\n",
              "      <td>PowerPoint application crashes when adding ani...</td>\n",
              "    </tr>\n",
              "    <tr>\n",
              "      <th>99</th>\n",
              "      <td>INC3422521</td>\n",
              "      <td>ppt</td>\n",
              "      <td>2023-05-15</td>\n",
              "      <td>PPT animations are not playing during the slid...</td>\n",
              "    </tr>\n",
              "  </tbody>\n",
              "</table>\n",
              "</div>\n",
              "    <div class=\"colab-df-buttons\">\n",
              "\n",
              "  <div class=\"colab-df-container\">\n",
              "    <button class=\"colab-df-convert\" onclick=\"convertToInteractive('df-94cc7aa7-a6a0-4341-b597-c96f03b446a8')\"\n",
              "            title=\"Convert this dataframe to an interactive table.\"\n",
              "            style=\"display:none;\">\n",
              "\n",
              "  <svg xmlns=\"http://www.w3.org/2000/svg\" height=\"24px\" viewBox=\"0 -960 960 960\">\n",
              "    <path d=\"M120-120v-720h720v720H120Zm60-500h600v-160H180v160Zm220 220h160v-160H400v160Zm0 220h160v-160H400v160ZM180-400h160v-160H180v160Zm440 0h160v-160H620v160ZM180-180h160v-160H180v160Zm440 0h160v-160H620v160Z\"/>\n",
              "  </svg>\n",
              "    </button>\n",
              "\n",
              "  <style>\n",
              "    .colab-df-container {\n",
              "      display:flex;\n",
              "      gap: 12px;\n",
              "    }\n",
              "\n",
              "    .colab-df-convert {\n",
              "      background-color: #E8F0FE;\n",
              "      border: none;\n",
              "      border-radius: 50%;\n",
              "      cursor: pointer;\n",
              "      display: none;\n",
              "      fill: #1967D2;\n",
              "      height: 32px;\n",
              "      padding: 0 0 0 0;\n",
              "      width: 32px;\n",
              "    }\n",
              "\n",
              "    .colab-df-convert:hover {\n",
              "      background-color: #E2EBFA;\n",
              "      box-shadow: 0px 1px 2px rgba(60, 64, 67, 0.3), 0px 1px 3px 1px rgba(60, 64, 67, 0.15);\n",
              "      fill: #174EA6;\n",
              "    }\n",
              "\n",
              "    .colab-df-buttons div {\n",
              "      margin-bottom: 4px;\n",
              "    }\n",
              "\n",
              "    [theme=dark] .colab-df-convert {\n",
              "      background-color: #3B4455;\n",
              "      fill: #D2E3FC;\n",
              "    }\n",
              "\n",
              "    [theme=dark] .colab-df-convert:hover {\n",
              "      background-color: #434B5C;\n",
              "      box-shadow: 0px 1px 3px 1px rgba(0, 0, 0, 0.15);\n",
              "      filter: drop-shadow(0px 1px 2px rgba(0, 0, 0, 0.3));\n",
              "      fill: #FFFFFF;\n",
              "    }\n",
              "  </style>\n",
              "\n",
              "    <script>\n",
              "      const buttonEl =\n",
              "        document.querySelector('#df-94cc7aa7-a6a0-4341-b597-c96f03b446a8 button.colab-df-convert');\n",
              "      buttonEl.style.display =\n",
              "        google.colab.kernel.accessAllowed ? 'block' : 'none';\n",
              "\n",
              "      async function convertToInteractive(key) {\n",
              "        const element = document.querySelector('#df-94cc7aa7-a6a0-4341-b597-c96f03b446a8');\n",
              "        const dataTable =\n",
              "          await google.colab.kernel.invokeFunction('convertToInteractive',\n",
              "                                                    [key], {});\n",
              "        if (!dataTable) return;\n",
              "\n",
              "        const docLinkHtml = 'Like what you see? Visit the ' +\n",
              "          '<a target=\"_blank\" href=https://colab.research.google.com/notebooks/data_table.ipynb>data table notebook</a>'\n",
              "          + ' to learn more about interactive tables.';\n",
              "        element.innerHTML = '';\n",
              "        dataTable['output_type'] = 'display_data';\n",
              "        await google.colab.output.renderOutput(dataTable, element);\n",
              "        const docLink = document.createElement('div');\n",
              "        docLink.innerHTML = docLinkHtml;\n",
              "        element.appendChild(docLink);\n",
              "      }\n",
              "    </script>\n",
              "  </div>\n",
              "\n",
              "\n",
              "<div id=\"df-b8e81478-f1e6-4412-94e5-a416be239160\">\n",
              "  <button class=\"colab-df-quickchart\" onclick=\"quickchart('df-b8e81478-f1e6-4412-94e5-a416be239160')\"\n",
              "            title=\"Suggest charts.\"\n",
              "            style=\"display:none;\">\n",
              "\n",
              "<svg xmlns=\"http://www.w3.org/2000/svg\" height=\"24px\"viewBox=\"0 0 24 24\"\n",
              "     width=\"24px\">\n",
              "    <g>\n",
              "        <path d=\"M19 3H5c-1.1 0-2 .9-2 2v14c0 1.1.9 2 2 2h14c1.1 0 2-.9 2-2V5c0-1.1-.9-2-2-2zM9 17H7v-7h2v7zm4 0h-2V7h2v10zm4 0h-2v-4h2v4z\"/>\n",
              "    </g>\n",
              "</svg>\n",
              "  </button>\n",
              "\n",
              "<style>\n",
              "  .colab-df-quickchart {\n",
              "      --bg-color: #E8F0FE;\n",
              "      --fill-color: #1967D2;\n",
              "      --hover-bg-color: #E2EBFA;\n",
              "      --hover-fill-color: #174EA6;\n",
              "      --disabled-fill-color: #AAA;\n",
              "      --disabled-bg-color: #DDD;\n",
              "  }\n",
              "\n",
              "  [theme=dark] .colab-df-quickchart {\n",
              "      --bg-color: #3B4455;\n",
              "      --fill-color: #D2E3FC;\n",
              "      --hover-bg-color: #434B5C;\n",
              "      --hover-fill-color: #FFFFFF;\n",
              "      --disabled-bg-color: #3B4455;\n",
              "      --disabled-fill-color: #666;\n",
              "  }\n",
              "\n",
              "  .colab-df-quickchart {\n",
              "    background-color: var(--bg-color);\n",
              "    border: none;\n",
              "    border-radius: 50%;\n",
              "    cursor: pointer;\n",
              "    display: none;\n",
              "    fill: var(--fill-color);\n",
              "    height: 32px;\n",
              "    padding: 0;\n",
              "    width: 32px;\n",
              "  }\n",
              "\n",
              "  .colab-df-quickchart:hover {\n",
              "    background-color: var(--hover-bg-color);\n",
              "    box-shadow: 0 1px 2px rgba(60, 64, 67, 0.3), 0 1px 3px 1px rgba(60, 64, 67, 0.15);\n",
              "    fill: var(--button-hover-fill-color);\n",
              "  }\n",
              "\n",
              "  .colab-df-quickchart-complete:disabled,\n",
              "  .colab-df-quickchart-complete:disabled:hover {\n",
              "    background-color: var(--disabled-bg-color);\n",
              "    fill: var(--disabled-fill-color);\n",
              "    box-shadow: none;\n",
              "  }\n",
              "\n",
              "  .colab-df-spinner {\n",
              "    border: 2px solid var(--fill-color);\n",
              "    border-color: transparent;\n",
              "    border-bottom-color: var(--fill-color);\n",
              "    animation:\n",
              "      spin 1s steps(1) infinite;\n",
              "  }\n",
              "\n",
              "  @keyframes spin {\n",
              "    0% {\n",
              "      border-color: transparent;\n",
              "      border-bottom-color: var(--fill-color);\n",
              "      border-left-color: var(--fill-color);\n",
              "    }\n",
              "    20% {\n",
              "      border-color: transparent;\n",
              "      border-left-color: var(--fill-color);\n",
              "      border-top-color: var(--fill-color);\n",
              "    }\n",
              "    30% {\n",
              "      border-color: transparent;\n",
              "      border-left-color: var(--fill-color);\n",
              "      border-top-color: var(--fill-color);\n",
              "      border-right-color: var(--fill-color);\n",
              "    }\n",
              "    40% {\n",
              "      border-color: transparent;\n",
              "      border-right-color: var(--fill-color);\n",
              "      border-top-color: var(--fill-color);\n",
              "    }\n",
              "    60% {\n",
              "      border-color: transparent;\n",
              "      border-right-color: var(--fill-color);\n",
              "    }\n",
              "    80% {\n",
              "      border-color: transparent;\n",
              "      border-right-color: var(--fill-color);\n",
              "      border-bottom-color: var(--fill-color);\n",
              "    }\n",
              "    90% {\n",
              "      border-color: transparent;\n",
              "      border-bottom-color: var(--fill-color);\n",
              "    }\n",
              "  }\n",
              "</style>\n",
              "\n",
              "  <script>\n",
              "    async function quickchart(key) {\n",
              "      const quickchartButtonEl =\n",
              "        document.querySelector('#' + key + ' button');\n",
              "      quickchartButtonEl.disabled = true;  // To prevent multiple clicks.\n",
              "      quickchartButtonEl.classList.add('colab-df-spinner');\n",
              "      try {\n",
              "        const charts = await google.colab.kernel.invokeFunction(\n",
              "            'suggestCharts', [key], {});\n",
              "      } catch (error) {\n",
              "        console.error('Error during call to suggestCharts:', error);\n",
              "      }\n",
              "      quickchartButtonEl.classList.remove('colab-df-spinner');\n",
              "      quickchartButtonEl.classList.add('colab-df-quickchart-complete');\n",
              "    }\n",
              "    (() => {\n",
              "      let quickchartButtonEl =\n",
              "        document.querySelector('#df-b8e81478-f1e6-4412-94e5-a416be239160 button');\n",
              "      quickchartButtonEl.style.display =\n",
              "        google.colab.kernel.accessAllowed ? 'block' : 'none';\n",
              "    })();\n",
              "  </script>\n",
              "</div>\n",
              "    </div>\n",
              "  </div>\n"
            ]
          },
          "metadata": {},
          "execution_count": 34
        }
      ]
    },
    {
      "cell_type": "markdown",
      "source": [
        "<h2>Clean the data</h2>"
      ],
      "metadata": {
        "id": "7CU1IbXxZl9l"
      }
    },
    {
      "cell_type": "code",
      "source": [
        "#prep for stopwords\n",
        "listStopwords = stopwords.words('english')"
      ],
      "metadata": {
        "colab": {
          "base_uri": "https://localhost:8080/"
        },
        "id": "adnH4-S1iZ86",
        "outputId": "28c7ba46-4b26-4ba0-9fee-a5863aaea506"
      },
      "execution_count": null,
      "outputs": [
        {
          "output_type": "stream",
          "name": "stderr",
          "text": [
            "/usr/local/lib/python3.10/dist-packages/ipykernel/ipkernel.py:283: DeprecationWarning: `should_run_async` will not call `transform_cell` automatically in the future. Please pass the result to `transformed_cell` argument and any exception that happen during thetransform in `preprocessing_exc_tuple` in IPython 7.17 and above.\n",
            "  and should_run_async(code)\n"
          ]
        }
      ]
    },
    {
      "cell_type": "code",
      "source": [
        "def cleanData(text):\n",
        "\n",
        "  #remove urls\n",
        "  url_pattern = re.compile(r'https?://\\S+')\n",
        "  text_without_url = url_pattern.sub('' , text)\n",
        "\n",
        "  #remove email ids\n",
        "  email_pattern = re.compile(r'\\b[A-Za-z0-9._%+-]+@[A-Za-z0-9.-]+\\.[A-Z|a-z]{2,}\\b')\n",
        "  text_without_email = email_pattern.sub('', text_without_url)\n",
        "\n",
        "  #remove punctuation\n",
        "  text_wo_punctuation = re.sub(r'[^\\w\\s]' ,'', text_without_email)\n",
        "\n",
        "  #remove whitespaces\n",
        "  text_wo_whitespaces = re.sub(r' +' , ' ', text_wo_punctuation).strip()\n",
        "\n",
        "  #lowercase\n",
        "  text_lowercase = text_wo_whitespaces.lower()\n",
        "\n",
        "  #stopwords\n",
        "  text_wo_stopwords = [ p for p in text_lowercase.split() if ( p not in listStopwords)]\n",
        "  text_wo_stopwords = ' '.join(text_wo_stopwords)\n",
        "\n",
        "  return text_wo_stopwords\n"
      ],
      "metadata": {
        "id": "i9KJyqNdZkUD",
        "colab": {
          "base_uri": "https://localhost:8080/"
        },
        "outputId": "a02bfa6e-2f21-4a7c-da20-9c8fbc05ebd5"
      },
      "execution_count": null,
      "outputs": [
        {
          "output_type": "stream",
          "name": "stderr",
          "text": [
            "/usr/local/lib/python3.10/dist-packages/ipykernel/ipkernel.py:283: DeprecationWarning: `should_run_async` will not call `transform_cell` automatically in the future. Please pass the result to `transformed_cell` argument and any exception that happen during thetransform in `preprocessing_exc_tuple` in IPython 7.17 and above.\n",
            "  and should_run_async(code)\n"
          ]
        }
      ]
    },
    {
      "cell_type": "code",
      "source": [
        "# Apply clean function to the data\n",
        "df['cleanDescription']= df['description'].apply(cleanData)\n",
        "#create tokens of the cleaned data\n",
        "df['tokens'] = df['cleanDescription'].apply(word_tokenize)"
      ],
      "metadata": {
        "id": "UYOdTAzV7OxG",
        "colab": {
          "base_uri": "https://localhost:8080/"
        },
        "outputId": "81c38d2c-a507-450d-f548-d5322a821524"
      },
      "execution_count": null,
      "outputs": [
        {
          "output_type": "stream",
          "name": "stderr",
          "text": [
            "/usr/local/lib/python3.10/dist-packages/ipykernel/ipkernel.py:283: DeprecationWarning: `should_run_async` will not call `transform_cell` automatically in the future. Please pass the result to `transformed_cell` argument and any exception that happen during thetransform in `preprocessing_exc_tuple` in IPython 7.17 and above.\n",
            "  and should_run_async(code)\n"
          ]
        }
      ]
    },
    {
      "cell_type": "code",
      "source": [
        "# Import the wordcloud library\n",
        "from wordcloud import WordCloud\n",
        "\n",
        "# Join the different processed titles together.\n",
        "long_string = ','.join(list(df['cleanDescription'].values))\n",
        "\n",
        "# Create a WordCloud object\n",
        "wordcloud = WordCloud(background_color=\"white\", max_words=5000, contour_width=3, contour_color='steelblue')\n",
        "\n",
        "# Generate a word cloud\n",
        "wordcloud.generate(long_string)\n",
        "\n",
        "# Visualize the word cloud\n",
        "wordcloud.to_image()"
      ],
      "metadata": {
        "colab": {
          "base_uri": "https://localhost:8080/",
          "height": 309
        },
        "id": "TABEiLAO5B9l",
        "outputId": "9473431c-7bbf-42f9-e93e-d92c72e7bf75"
      },
      "execution_count": null,
      "outputs": [
        {
          "output_type": "stream",
          "name": "stderr",
          "text": [
            "/usr/local/lib/python3.10/dist-packages/ipykernel/ipkernel.py:283: DeprecationWarning: `should_run_async` will not call `transform_cell` automatically in the future. Please pass the result to `transformed_cell` argument and any exception that happen during thetransform in `preprocessing_exc_tuple` in IPython 7.17 and above.\n",
            "  and should_run_async(code)\n",
            "/usr/local/lib/python3.10/dist-packages/wordcloud/wordcloud.py:106: MatplotlibDeprecationWarning: The get_cmap function was deprecated in Matplotlib 3.7 and will be removed two minor releases later. Use ``matplotlib.colormaps[name]`` or ``matplotlib.colormaps.get_cmap(obj)`` instead.\n",
            "  self.colormap = plt.cm.get_cmap(colormap)\n"
          ]
        },
        {
          "output_type": "execute_result",
          "data": {
            "text/plain": [
              "<PIL.Image.Image image mode=RGB size=400x200>"
            ],
            "image/png": "[encoded data removed]"
          },
          "metadata": {},
          "execution_count": 52
        }
      ]
    },
    {
      "cell_type": "code",
      "source": [
        "#There are words in this word cloud which do not contribute a lot in narrowing down a relevant theme\n",
        "# So lets add some of these words in the list of stopwords and clean the data again\n",
        "more_stopwords = ['information', 'contact', 'us', 'found', 'assistance' ]\n",
        "listStopwords.extend(more_stopwords)\n",
        "\n",
        "#clean again\n",
        "def stop_words(text):\n",
        "\n",
        "  #stopwords\n",
        "  text_wo_stopwords = [ p for p in text.split() if ( p not in listStopwords)]\n",
        "  text_wo_stopwords = ' '.join(text_wo_stopwords)\n",
        "\n",
        "  return text_wo_stopwords\n",
        "\n",
        "# Apply clean function to the data\n",
        "df['cleanDescription']= df['description'].apply(cleanData)\n",
        "#create tokens of the cleaned data\n",
        "df['tokens'] = df['cleanDescription'].apply(word_tokenize)"
      ],
      "metadata": {
        "colab": {
          "base_uri": "https://localhost:8080/"
        },
        "id": "nhyPDdvn9MCH",
        "outputId": "98a8844b-03a8-4196-89d7-b4f1b6f20d72"
      },
      "execution_count": null,
      "outputs": [
        {
          "output_type": "stream",
          "name": "stderr",
          "text": [
            "/usr/local/lib/python3.10/dist-packages/ipykernel/ipkernel.py:283: DeprecationWarning: `should_run_async` will not call `transform_cell` automatically in the future. Please pass the result to `transformed_cell` argument and any exception that happen during thetransform in `preprocessing_exc_tuple` in IPython 7.17 and above.\n",
            "  and should_run_async(code)\n"
          ]
        }
      ]
    },
    {
      "cell_type": "code",
      "source": [
        "df.head(2)"
      ],
      "metadata": {
        "colab": {
          "base_uri": "https://localhost:8080/",
          "height": 202
        },
        "id": "YTwqva-b8XNp",
        "outputId": "bf4bb61f-e841-41d9-862c-49ee219eea0a"
      },
      "execution_count": null,
      "outputs": [
        {
          "output_type": "stream",
          "name": "stderr",
          "text": [
            "/usr/local/lib/python3.10/dist-packages/ipykernel/ipkernel.py:283: DeprecationWarning: `should_run_async` will not call `transform_cell` automatically in the future. Please pass the result to `transformed_cell` argument and any exception that happen during thetransform in `preprocessing_exc_tuple` in IPython 7.17 and above.\n",
            "  and should_run_async(code)\n"
          ]
        },
        {
          "output_type": "execute_result",
          "data": {
            "text/plain": [
              "       number           ci week_start_date  \\\n",
              "0  INC3422521          ppt      2023-05-15   \n",
              "1  INC3422521  share point      2023-05-15   \n",
              "\n",
              "                                         description  \\\n",
              "0  PPT animations are not playing during the slid...   \n",
              "1  PowerPoint application crashes when adding ani...   \n",
              "\n",
              "                                   cleanDescription  \\\n",
              "0                  ppt animations playing slideshow   \n",
              "1  powerpoint application crashes adding animations   \n",
              "\n",
              "                                              tokens  \n",
              "0              [ppt, animations, playing, slideshow]  \n",
              "1  [powerpoint, application, crashes, adding, ani...  "
            ],
            "text/html": [
              "\n",
              "  <div id=\"df-df7530bf-564a-4fda-a52e-7dbe82fa5d2e\" class=\"colab-df-container\">\n",
              "    <div>\n",
              "<style scoped>\n",
              "    .dataframe tbody tr th:only-of-type {\n",
              "        vertical-align: middle;\n",
              "    }\n",
              "\n",
              "    .dataframe tbody tr th {\n",
              "        vertical-align: top;\n",
              "    }\n",
              "\n",
              "    .dataframe thead th {\n",
              "        text-align: right;\n",
              "    }\n",
              "</style>\n",
              "<table border=\"1\" class=\"dataframe\">\n",
              "  <thead>\n",
              "    <tr style=\"text-align: right;\">\n",
              "      <th></th>\n",
              "      <th>number</th>\n",
              "      <th>ci</th>\n",
              "      <th>week_start_date</th>\n",
              "      <th>description</th>\n",
              "      <th>cleanDescription</th>\n",
              "      <th>tokens</th>\n",
              "    </tr>\n",
              "  </thead>\n",
              "  <tbody>\n",
              "    <tr>\n",
              "      <th>0</th>\n",
              "      <td>INC3422521</td>\n",
              "      <td>ppt</td>\n",
              "      <td>2023-05-15</td>\n",
              "      <td>PPT animations are not playing during the slid...</td>\n",
              "      <td>ppt animations playing slideshow</td>\n",
              "      <td>[ppt, animations, playing, slideshow]</td>\n",
              "    </tr>\n",
              "    <tr>\n",
              "      <th>1</th>\n",
              "      <td>INC3422521</td>\n",
              "      <td>share point</td>\n",
              "      <td>2023-05-15</td>\n",
              "      <td>PowerPoint application crashes when adding ani...</td>\n",
              "      <td>powerpoint application crashes adding animations</td>\n",
              "      <td>[powerpoint, application, crashes, adding, ani...</td>\n",
              "    </tr>\n",
              "  </tbody>\n",
              "</table>\n",
              "</div>\n",
              "    <div class=\"colab-df-buttons\">\n",
              "\n",
              "  <div class=\"colab-df-container\">\n",
              "    <button class=\"colab-df-convert\" onclick=\"convertToInteractive('df-df7530bf-564a-4fda-a52e-7dbe82fa5d2e')\"\n",
              "            title=\"Convert this dataframe to an interactive table.\"\n",
              "            style=\"display:none;\">\n",
              "\n",
              "  <svg xmlns=\"http://www.w3.org/2000/svg\" height=\"24px\" viewBox=\"0 -960 960 960\">\n",
              "    <path d=\"M120-120v-720h720v720H120Zm60-500h600v-160H180v160Zm220 220h160v-160H400v160Zm0 220h160v-160H400v160ZM180-400h160v-160H180v160Zm440 0h160v-160H620v160ZM180-180h160v-160H180v160Zm440 0h160v-160H620v160Z\"/>\n",
              "  </svg>\n",
              "    </button>\n",
              "\n",
              "  <style>\n",
              "    .colab-df-container {\n",
              "      display:flex;\n",
              "      gap: 12px;\n",
              "    }\n",
              "\n",
              "    .colab-df-convert {\n",
              "      background-color: #E8F0FE;\n",
              "      border: none;\n",
              "      border-radius: 50%;\n",
              "      cursor: pointer;\n",
              "      display: none;\n",
              "      fill: #1967D2;\n",
              "      height: 32px;\n",
              "      padding: 0 0 0 0;\n",
              "      width: 32px;\n",
              "    }\n",
              "\n",
              "    .colab-df-convert:hover {\n",
              "      background-color: #E2EBFA;\n",
              "      box-shadow: 0px 1px 2px rgba(60, 64, 67, 0.3), 0px 1px 3px 1px rgba(60, 64, 67, 0.15);\n",
              "      fill: #174EA6;\n",
              "    }\n",
              "\n",
              "    .colab-df-buttons div {\n",
              "      margin-bottom: 4px;\n",
              "    }\n",
              "\n",
              "    [theme=dark] .colab-df-convert {\n",
              "      background-color: #3B4455;\n",
              "      fill: #D2E3FC;\n",
              "    }\n",
              "\n",
              "    [theme=dark] .colab-df-convert:hover {\n",
              "      background-color: #434B5C;\n",
              "      box-shadow: 0px 1px 3px 1px rgba(0, 0, 0, 0.15);\n",
              "      filter: drop-shadow(0px 1px 2px rgba(0, 0, 0, 0.3));\n",
              "      fill: #FFFFFF;\n",
              "    }\n",
              "  </style>\n",
              "\n",
              "    <script>\n",
              "      const buttonEl =\n",
              "        document.querySelector('#df-df7530bf-564a-4fda-a52e-7dbe82fa5d2e button.colab-df-convert');\n",
              "      buttonEl.style.display =\n",
              "        google.colab.kernel.accessAllowed ? 'block' : 'none';\n",
              "\n",
              "      async function convertToInteractive(key) {\n",
              "        const element = document.querySelector('#df-df7530bf-564a-4fda-a52e-7dbe82fa5d2e');\n",
              "        const dataTable =\n",
              "          await google.colab.kernel.invokeFunction('convertToInteractive',\n",
              "                                                    [key], {});\n",
              "        if (!dataTable) return;\n",
              "\n",
              "        const docLinkHtml = 'Like what you see? Visit the ' +\n",
              "          '<a target=\"_blank\" href=https://colab.research.google.com/notebooks/data_table.ipynb>data table notebook</a>'\n",
              "          + ' to learn more about interactive tables.';\n",
              "        element.innerHTML = '';\n",
              "        dataTable['output_type'] = 'display_data';\n",
              "        await google.colab.output.renderOutput(dataTable, element);\n",
              "        const docLink = document.createElement('div');\n",
              "        docLink.innerHTML = docLinkHtml;\n",
              "        element.appendChild(docLink);\n",
              "      }\n",
              "    </script>\n",
              "  </div>\n",
              "\n",
              "\n",
              "<div id=\"df-0ac3d69f-8b15-4cff-b119-90ec9c7eb852\">\n",
              "  <button class=\"colab-df-quickchart\" onclick=\"quickchart('df-0ac3d69f-8b15-4cff-b119-90ec9c7eb852')\"\n",
              "            title=\"Suggest charts.\"\n",
              "            style=\"display:none;\">\n",
              "\n",
              "<svg xmlns=\"http://www.w3.org/2000/svg\" height=\"24px\"viewBox=\"0 0 24 24\"\n",
              "     width=\"24px\">\n",
              "    <g>\n",
              "        <path d=\"M19 3H5c-1.1 0-2 .9-2 2v14c0 1.1.9 2 2 2h14c1.1 0 2-.9 2-2V5c0-1.1-.9-2-2-2zM9 17H7v-7h2v7zm4 0h-2V7h2v10zm4 0h-2v-4h2v4z\"/>\n",
              "    </g>\n",
              "</svg>\n",
              "  </button>\n",
              "\n",
              "<style>\n",
              "  .colab-df-quickchart {\n",
              "      --bg-color: #E8F0FE;\n",
              "      --fill-color: #1967D2;\n",
              "      --hover-bg-color: #E2EBFA;\n",
              "      --hover-fill-color: #174EA6;\n",
              "      --disabled-fill-color: #AAA;\n",
              "      --disabled-bg-color: #DDD;\n",
              "  }\n",
              "\n",
              "  [theme=dark] .colab-df-quickchart {\n",
              "      --bg-color: #3B4455;\n",
              "      --fill-color: #D2E3FC;\n",
              "      --hover-bg-color: #434B5C;\n",
              "      --hover-fill-color: #FFFFFF;\n",
              "      --disabled-bg-color: #3B4455;\n",
              "      --disabled-fill-color: #666;\n",
              "  }\n",
              "\n",
              "  .colab-df-quickchart {\n",
              "    background-color: var(--bg-color);\n",
              "    border: none;\n",
              "    border-radius: 50%;\n",
              "    cursor: pointer;\n",
              "    display: none;\n",
              "    fill: var(--fill-color);\n",
              "    height: 32px;\n",
              "    padding: 0;\n",
              "    width: 32px;\n",
              "  }\n",
              "\n",
              "  .colab-df-quickchart:hover {\n",
              "    background-color: var(--hover-bg-color);\n",
              "    box-shadow: 0 1px 2px rgba(60, 64, 67, 0.3), 0 1px 3px 1px rgba(60, 64, 67, 0.15);\n",
              "    fill: var(--button-hover-fill-color);\n",
              "  }\n",
              "\n",
              "  .colab-df-quickchart-complete:disabled,\n",
              "  .colab-df-quickchart-complete:disabled:hover {\n",
              "    background-color: var(--disabled-bg-color);\n",
              "    fill: var(--disabled-fill-color);\n",
              "    box-shadow: none;\n",
              "  }\n",
              "\n",
              "  .colab-df-spinner {\n",
              "    border: 2px solid var(--fill-color);\n",
              "    border-color: transparent;\n",
              "    border-bottom-color: var(--fill-color);\n",
              "    animation:\n",
              "      spin 1s steps(1) infinite;\n",
              "  }\n",
              "\n",
              "  @keyframes spin {\n",
              "    0% {\n",
              "      border-color: transparent;\n",
              "      border-bottom-color: var(--fill-color);\n",
              "      border-left-color: var(--fill-color);\n",
              "    }\n",
              "    20% {\n",
              "      border-color: transparent;\n",
              "      border-left-color: var(--fill-color);\n",
              "      border-top-color: var(--fill-color);\n",
              "    }\n",
              "    30% {\n",
              "      border-color: transparent;\n",
              "      border-left-color: var(--fill-color);\n",
              "      border-top-color: var(--fill-color);\n",
              "      border-right-color: var(--fill-color);\n",
              "    }\n",
              "    40% {\n",
              "      border-color: transparent;\n",
              "      border-right-color: var(--fill-color);\n",
              "      border-top-color: var(--fill-color);\n",
              "    }\n",
              "    60% {\n",
              "      border-color: transparent;\n",
              "      border-right-color: var(--fill-color);\n",
              "    }\n",
              "    80% {\n",
              "      border-color: transparent;\n",
              "      border-right-color: var(--fill-color);\n",
              "      border-bottom-color: var(--fill-color);\n",
              "    }\n",
              "    90% {\n",
              "      border-color: transparent;\n",
              "      border-bottom-color: var(--fill-color);\n",
              "    }\n",
              "  }\n",
              "</style>\n",
              "\n",
              "  <script>\n",
              "    async function quickchart(key) {\n",
              "      const quickchartButtonEl =\n",
              "        document.querySelector('#' + key + ' button');\n",
              "      quickchartButtonEl.disabled = true;  // To prevent multiple clicks.\n",
              "      quickchartButtonEl.classList.add('colab-df-spinner');\n",
              "      try {\n",
              "        const charts = await google.colab.kernel.invokeFunction(\n",
              "            'suggestCharts', [key], {});\n",
              "      } catch (error) {\n",
              "        console.error('Error during call to suggestCharts:', error);\n",
              "      }\n",
              "      quickchartButtonEl.classList.remove('colab-df-spinner');\n",
              "      quickchartButtonEl.classList.add('colab-df-quickchart-complete');\n",
              "    }\n",
              "    (() => {\n",
              "      let quickchartButtonEl =\n",
              "        document.querySelector('#df-0ac3d69f-8b15-4cff-b119-90ec9c7eb852 button');\n",
              "      quickchartButtonEl.style.display =\n",
              "        google.colab.kernel.accessAllowed ? 'block' : 'none';\n",
              "    })();\n",
              "  </script>\n",
              "</div>\n",
              "    </div>\n",
              "  </div>\n"
            ]
          },
          "metadata": {},
          "execution_count": 53
        }
      ]
    },
    {
      "cell_type": "markdown",
      "source": [
        "USE GENSIM LIBRARY FOR APPLYING LDA TO THE DATASET"
      ],
      "metadata": {
        "id": "0R9mYtAZtT0h"
      }
    },
    {
      "cell_type": "code",
      "source": [
        "from gensim import corpora\n",
        "from gensim.models import LdaModel\n",
        "from gensim import models"
      ],
      "metadata": {
        "id": "_BDFXFcttZbQ",
        "colab": {
          "base_uri": "https://localhost:8080/"
        },
        "outputId": "45583228-5e30-40af-de89-a94fa6300e28"
      },
      "execution_count": null,
      "outputs": [
        {
          "output_type": "stream",
          "name": "stderr",
          "text": [
            "/usr/local/lib/python3.10/dist-packages/ipykernel/ipkernel.py:283: DeprecationWarning: `should_run_async` will not call `transform_cell` automatically in the future. Please pass the result to `transformed_cell` argument and any exception that happen during thetransform in `preprocessing_exc_tuple` in IPython 7.17 and above.\n",
            "  and should_run_async(code)\n"
          ]
        }
      ]
    },
    {
      "cell_type": "code",
      "source": [
        "# Create a dictionary from the tokenized text\n",
        "dictionary = corpora.Dictionary(df['tokens'])\n",
        "\n",
        "# Create a corpus\n",
        "corpus = [dictionary.doc2bow(text) for text in df['tokens']]"
      ],
      "metadata": {
        "id": "TpDJTodKtZRK",
        "colab": {
          "base_uri": "https://localhost:8080/"
        },
        "outputId": "daad28f2-2369-4a1f-b448-ba1262906252"
      },
      "execution_count": null,
      "outputs": [
        {
          "output_type": "stream",
          "name": "stderr",
          "text": [
            "/usr/local/lib/python3.10/dist-packages/ipykernel/ipkernel.py:283: DeprecationWarning: `should_run_async` will not call `transform_cell` automatically in the future. Please pass the result to `transformed_cell` argument and any exception that happen during thetransform in `preprocessing_exc_tuple` in IPython 7.17 and above.\n",
            "  and should_run_async(code)\n"
          ]
        }
      ]
    },
    {
      "cell_type": "code",
      "source": [
        "# Train an LDA model on the corpus\n",
        "lda_model = LdaModel(corpus=corpus, id2word=dictionary, num_topics=8, passes=24)"
      ],
      "metadata": {
        "id": "EmeMCX_ItZOA",
        "colab": {
          "base_uri": "https://localhost:8080/"
        },
        "outputId": "fb41636a-441c-49ce-8549-40dca7e08ebc"
      },
      "execution_count": null,
      "outputs": [
        {
          "output_type": "stream",
          "name": "stderr",
          "text": [
            "/usr/local/lib/python3.10/dist-packages/ipykernel/ipkernel.py:283: DeprecationWarning: `should_run_async` will not call `transform_cell` automatically in the future. Please pass the result to `transformed_cell` argument and any exception that happen during thetransform in `preprocessing_exc_tuple` in IPython 7.17 and above.\n",
            "  and should_run_async(code)\n"
          ]
        }
      ]
    },
    {
      "cell_type": "code",
      "source": [
        "# Print the topics and associated words\n",
        "topics = lda_model.print_topics(num_words=10)\n",
        "for topic in topics:\n",
        "    print(topic)"
      ],
      "metadata": {
        "colab": {
          "base_uri": "https://localhost:8080/"
        },
        "id": "mr-IVT9FtZIg",
        "outputId": "22f0e0ff-0317-41d7-e66a-c05aa23a0d01"
      },
      "execution_count": null,
      "outputs": [
        {
          "output_type": "stream",
          "name": "stdout",
          "text": [
            "(0, '0.063*\"animations\" + 0.063*\"playing\" + 0.063*\"ppt\" + 0.063*\"slideshow\" + 0.062*\"slack\" + 0.062*\"mobile\" + 0.062*\"notifications\" + 0.062*\"devices\" + 0.062*\"delivered\" + 0.062*\"application\"')\n",
            "(1, '0.063*\"animations\" + 0.063*\"crashes\" + 0.063*\"adding\" + 0.063*\"application\" + 0.063*\"powerpoint\" + 0.063*\"slack\" + 0.063*\"mobile\" + 0.063*\"notifications\" + 0.063*\"delivered\" + 0.063*\"devices\"')\n",
            "(2, '0.246*\"syncing\" + 0.246*\"properly\" + 0.246*\"messages\" + 0.246*\"slack\" + 0.001*\"animations\" + 0.001*\"crashes\" + 0.001*\"slideshow\" + 0.001*\"playing\" + 0.001*\"powerpoint\" + 0.001*\"adding\"')\n",
            "(3, '0.247*\"animations\" + 0.247*\"ppt\" + 0.247*\"slideshow\" + 0.247*\"playing\" + 0.001*\"crashes\" + 0.001*\"slack\" + 0.001*\"messages\" + 0.001*\"properly\" + 0.001*\"syncing\" + 0.001*\"adding\"')\n",
            "(4, '0.198*\"powerpoint\" + 0.198*\"application\" + 0.198*\"adding\" + 0.198*\"crashes\" + 0.198*\"animations\" + 0.001*\"slack\" + 0.001*\"devices\" + 0.001*\"delivered\" + 0.001*\"notifications\" + 0.001*\"mobile\"')\n",
            "(5, '0.063*\"animations\" + 0.063*\"slack\" + 0.063*\"powerpoint\" + 0.063*\"adding\" + 0.063*\"application\" + 0.063*\"crashes\" + 0.063*\"delivered\" + 0.063*\"devices\" + 0.063*\"mobile\" + 0.063*\"notifications\"')\n",
            "(6, '0.196*\"slack\" + 0.196*\"mobile\" + 0.196*\"notifications\" + 0.196*\"delivered\" + 0.196*\"devices\" + 0.002*\"animations\" + 0.002*\"playing\" + 0.002*\"slideshow\" + 0.002*\"ppt\" + 0.002*\"crashes\"')\n",
            "(7, '0.063*\"animations\" + 0.063*\"ppt\" + 0.063*\"slideshow\" + 0.063*\"playing\" + 0.062*\"slack\" + 0.062*\"devices\" + 0.062*\"notifications\" + 0.062*\"mobile\" + 0.062*\"delivered\" + 0.062*\"powerpoint\"')\n"
          ]
        },
        {
          "output_type": "stream",
          "name": "stderr",
          "text": [
            "/usr/local/lib/python3.10/dist-packages/ipykernel/ipkernel.py:283: DeprecationWarning: `should_run_async` will not call `transform_cell` automatically in the future. Please pass the result to `transformed_cell` argument and any exception that happen during thetransform in `preprocessing_exc_tuple` in IPython 7.17 and above.\n",
            "  and should_run_async(code)\n"
          ]
        }
      ]
    },
    {
      "cell_type": "code",
      "source": [
        "themes = {'Topic1': 'Animations not playing in ppt'\n",
        "          , 'Topic2' : 'Notification error on slack mobile device'\n",
        "          , 'Topic3': 'Messages not syncing properly in slack'\n",
        "          ,'Topic4': 'Slideshow crashing in ppt'}"
      ],
      "metadata": {
        "colab": {
          "base_uri": "https://localhost:8080/"
        },
        "id": "9ThF8NIY5kpO",
        "outputId": "46a3436d-ff4a-4944-9c13-3d637b06e576"
      },
      "execution_count": null,
      "outputs": [
        {
          "output_type": "stream",
          "name": "stderr",
          "text": [
            "/usr/local/lib/python3.10/dist-packages/ipykernel/ipkernel.py:283: DeprecationWarning: `should_run_async` will not call `transform_cell` automatically in the future. Please pass the result to `transformed_cell` argument and any exception that happen during thetransform in `preprocessing_exc_tuple` in IPython 7.17 and above.\n",
            "  and should_run_async(code)\n"
          ]
        }
      ]
    },
    {
      "cell_type": "markdown",
      "source": [
        "Evaluation Metrics of Topic Modelling with LDA"
      ],
      "metadata": {
        "id": "2wNB0YDxza5P"
      }
    },
    {
      "cell_type": "code",
      "source": [
        "perplexity = lda_model.log_perplexity(corpus)\n",
        "print('Perplexity: ', perplexity)"
      ],
      "metadata": {
        "colab": {
          "base_uri": "https://localhost:8080/"
        },
        "id": "WXwpgRjxtZCn",
        "outputId": "95966f9d-f897-495e-a895-5a7b1dac76ae"
      },
      "execution_count": null,
      "outputs": [
        {
          "output_type": "stream",
          "name": "stdout",
          "text": [
            "Perplexity:  -2.4105224727777004\n"
          ]
        },
        {
          "output_type": "stream",
          "name": "stderr",
          "text": [
            "/usr/local/lib/python3.10/dist-packages/ipykernel/ipkernel.py:283: DeprecationWarning: `should_run_async` will not call `transform_cell` automatically in the future. Please pass the result to `transformed_cell` argument and any exception that happen during thetransform in `preprocessing_exc_tuple` in IPython 7.17 and above.\n",
            "  and should_run_async(code)\n"
          ]
        }
      ]
    },
    {
      "cell_type": "markdown",
      "source": [
        "Visualization of LDA Topics"
      ],
      "metadata": {
        "id": "EzKgjnP-zgYy"
      }
    },
    {
      "cell_type": "code",
      "source": [
        "import matplotlib.pyplot as plt\n",
        "\n",
        "topics = lda_model.show_topics(num_topics=5, num_words=10, formatted=False)\n",
        "for topic_id, topic in topics:\n",
        "    words = [word for word, prob in topic]\n",
        "    probs = [prob for word, prob in topic]\n",
        "    plt.barh(words, probs)\n",
        "    plt.title(f\"Topic {topic_id}\")\n",
        "    plt.xlabel(\"Probability\")\n",
        "    plt.ylabel(\"Word\")\n",
        "    plt.show()\n"
      ],
      "metadata": {
        "colab": {
          "base_uri": "https://localhost:8080/",
          "height": 1000
        },
        "id": "CnF0WvPkw9oK",
        "outputId": "b5e77e1f-83d7-412f-c487-03239cd93fd0"
      },
      "execution_count": null,
      "outputs": [
        {
          "output_type": "stream",
          "name": "stderr",
          "text": [
            "/usr/local/lib/python3.10/dist-packages/ipykernel/ipkernel.py:283: DeprecationWarning: `should_run_async` will not call `transform_cell` automatically in the future. Please pass the result to `transformed_cell` argument and any exception that happen during thetransform in `preprocessing_exc_tuple` in IPython 7.17 and above.\n",
            "  and should_run_async(code)\n"
          ]
        },
        {
          "output_type": "display_data",
          "data": {
            "text/plain": [
              "<Figure size 640x480 with 1 Axes>"
            ],
            "image/png": "[encoded data removed]"
          },
          "metadata": {}
        },
        {
          "output_type": "display_data",
          "data": {
            "text/plain": [
              "<Figure size 640x480 with 1 Axes>"
            ],
            "image/png": "[encoded data removed]"
          },
          "metadata": {}
        },
        {
          "output_type": "display_data",
          "data": {
            "text/plain": [
              "<Figure size 640x480 with 1 Axes>"
            ],
            "image/png": "[encoded data removed]"
          },
          "metadata": {}
        },
        {
          "output_type": "display_data",
          "data": {
            "text/plain": [
              "<Figure size 640x480 with 1 Axes>"
            ],
            "image/png": "[encoded data removed]"
          },
          "metadata": {}
        },
        {
          "output_type": "display_data",
          "data": {
            "text/plain": [
              "<Figure size 640x480 with 1 Axes>"
            ],
            "image/png": "[encoded data removed]"
          },
          "metadata": {}
        }
      ]
    },
    {
      "cell_type": "code",
      "source": [
        "!pip install pyLDAvis"
      ],
      "metadata": {
        "colab": {
          "base_uri": "https://localhost:8080/",
          "height": 872
        },
        "id": "FgyyFXpkxS4j",
        "outputId": "056f4028-6b17-4cf8-e1d6-757312aba46a"
      },
      "execution_count": null,
      "outputs": [
        {
          "output_type": "stream",
          "name": "stdout",
          "text": [
            "Collecting pyLDAvis\n",
            "  Downloading pyLDAvis-3.4.1-py3-none-any.whl (2.6 MB)\n",
            "\u001b[2K     \u001b[90m━━━━━━━━━━━━━━━━━━━━━━━━━━━━━━━━━━━━━━━━\u001b[0m \u001b[32m2.6/2.6 MB\u001b[0m \u001b[31m14.0 MB/s\u001b[0m eta \u001b[36m0:00:00\u001b[0m\n",
            "\u001b[?25hCollecting numpy>=1.24.2 (from pyLDAvis)\n",
            "  Downloading numpy-1.25.2-cp310-cp310-manylinux_2_17_x86_64.manylinux2014_x86_64.whl (18.2 MB)\n",
            "\u001b[2K     \u001b[90m━━━━━━━━━━━━━━━━━━━━━━━━━━━━━━━━━━━━━━━━\u001b[0m \u001b[32m18.2/18.2 MB\u001b[0m \u001b[31m47.4 MB/s\u001b[0m eta \u001b[36m0:00:00\u001b[0m\n",
            "\u001b[?25hRequirement already satisfied: scipy in /usr/local/lib/python3.10/dist-packages (from pyLDAvis) (1.10.1)\n",
            "Collecting pandas>=2.0.0 (from pyLDAvis)\n",
            "  Downloading pandas-2.1.0-cp310-cp310-manylinux_2_17_x86_64.manylinux2014_x86_64.whl (12.7 MB)\n",
            "\u001b[2K     \u001b[90m━━━━━━━━━━━━━━━━━━━━━━━━━━━━━━━━━━━━━━━━\u001b[0m \u001b[32m12.7/12.7 MB\u001b[0m \u001b[31m65.8 MB/s\u001b[0m eta \u001b[36m0:00:00\u001b[0m\n",
            "\u001b[?25hRequirement already satisfied: joblib>=1.2.0 in /usr/local/lib/python3.10/dist-packages (from pyLDAvis) (1.3.2)\n",
            "Requirement already satisfied: jinja2 in /usr/local/lib/python3.10/dist-packages (from pyLDAvis) (3.1.2)\n",
            "Requirement already satisfied: numexpr in /usr/local/lib/python3.10/dist-packages (from pyLDAvis) (2.8.5)\n",
            "Collecting funcy (from pyLDAvis)\n",
            "  Downloading funcy-2.0-py2.py3-none-any.whl (30 kB)\n",
            "Requirement already satisfied: scikit-learn>=1.0.0 in /usr/local/lib/python3.10/dist-packages (from pyLDAvis) (1.2.2)\n",
            "Requirement already satisfied: gensim in /usr/local/lib/python3.10/dist-packages (from pyLDAvis) (4.3.2)\n",
            "Requirement already satisfied: setuptools in /usr/local/lib/python3.10/dist-packages (from pyLDAvis) (67.7.2)\n",
            "Requirement already satisfied: python-dateutil>=2.8.2 in /usr/local/lib/python3.10/dist-packages (from pandas>=2.0.0->pyLDAvis) (2.8.2)\n",
            "Requirement already satisfied: pytz>=2020.1 in /usr/local/lib/python3.10/dist-packages (from pandas>=2.0.0->pyLDAvis) (2023.3.post1)\n",
            "Collecting tzdata>=2022.1 (from pandas>=2.0.0->pyLDAvis)\n",
            "  Downloading tzdata-2023.3-py2.py3-none-any.whl (341 kB)\n",
            "\u001b[2K     \u001b[90m━━━━━━━━━━━━━━━━━━━━━━━━━━━━━━━━━━━━━━\u001b[0m \u001b[32m341.8/341.8 kB\u001b[0m \u001b[31m19.5 MB/s\u001b[0m eta \u001b[36m0:00:00\u001b[0m\n",
            "\u001b[?25hRequirement already satisfied: threadpoolctl>=2.0.0 in /usr/local/lib/python3.10/dist-packages (from scikit-learn>=1.0.0->pyLDAvis) (3.2.0)\n",
            "Requirement already satisfied: smart-open>=1.8.1 in /usr/local/lib/python3.10/dist-packages (from gensim->pyLDAvis) (6.3.0)\n",
            "Requirement already satisfied: MarkupSafe>=2.0 in /usr/local/lib/python3.10/dist-packages (from jinja2->pyLDAvis) (2.1.3)\n",
            "Requirement already satisfied: six>=1.5 in /usr/local/lib/python3.10/dist-packages (from python-dateutil>=2.8.2->pandas>=2.0.0->pyLDAvis) (1.16.0)\n",
            "Installing collected packages: funcy, tzdata, numpy, pandas, pyLDAvis\n",
            "  Attempting uninstall: numpy\n",
            "    Found existing installation: numpy 1.23.5\n",
            "    Uninstalling numpy-1.23.5:\n",
            "      Successfully uninstalled numpy-1.23.5\n",
            "  Attempting uninstall: pandas\n",
            "    Found existing installation: pandas 1.5.3\n",
            "    Uninstalling pandas-1.5.3:\n",
            "      Successfully uninstalled pandas-1.5.3\n",
            "\u001b[31mERROR: pip's dependency resolver does not currently take into account all the packages that are installed. This behaviour is the source of the following dependency conflicts.\n",
            "google-colab 1.0.0 requires pandas==1.5.3, but you have pandas 2.1.0 which is incompatible.\n",
            "numba 0.56.4 requires numpy<1.24,>=1.18, but you have numpy 1.25.2 which is incompatible.\n",
            "tensorflow 2.13.0 requires numpy<=1.24.3,>=1.22, but you have numpy 1.25.2 which is incompatible.\u001b[0m\u001b[31m\n",
            "\u001b[0mSuccessfully installed funcy-2.0 numpy-1.25.2 pandas-2.1.0 pyLDAvis-3.4.1 tzdata-2023.3\n"
          ]
        },
        {
          "output_type": "display_data",
          "data": {
            "application/vnd.colab-display-data+json": {
              "pip_warning": {
                "packages": [
                  "numpy"
                ]
              }
            }
          },
          "metadata": {}
        }
      ]
    },
    {
      "cell_type": "code",
      "source": [
        "# @title\n",
        "import pyLDAvis.gensim_models as gensimvis\n",
        "import pyLDAvis\n",
        "\n",
        "vis = gensimvis.prepare(lda_model, corpus, dictionary=lda_model.id2word)\n",
        "pyLDAvis.display(vis)\n"
      ],
      "metadata": {
        "colab": {
          "base_uri": "https://localhost:8080/",
          "height": 917
        },
        "id": "4ai2l-oUw9gN",
        "outputId": "18620820-bdb8-4550-8721-4ffa36ace6ea"
      },
      "execution_count": null,
      "outputs": [
        {
          "output_type": "stream",
          "name": "stderr",
          "text": [
            "/usr/local/lib/python3.10/dist-packages/ipykernel/ipkernel.py:283: DeprecationWarning: `should_run_async` will not call `transform_cell` automatically in the future. Please pass the result to `transformed_cell` argument and any exception that happen during thetransform in `preprocessing_exc_tuple` in IPython 7.17 and above.\n",
            "  and should_run_async(code)\n"
          ]
        },
        {
          "output_type": "execute_result",
          "data": {
            "text/plain": [
              "<IPython.core.display.HTML object>"
            ],
            "text/html": [
              "\n",
              "<link rel=\"stylesheet\" type=\"text/css\" href=\"https://cdn.jsdelivr.net/gh/bmabey/pyLDAvis@3.4.0/pyLDAvis/js/ldavis.v1.0.0.css\">\n",
              "\n",
              "\n",
              "<div id=\"ldavis_el24941321609637448648529431406\" style=\"background-color:white;\"></div>\n",
              "<script type=\"text/javascript\">\n",
              "\n",
              "var ldavis_el24941321609637448648529431406_data = {\"mdsDat\": {\"x\": [-0.27370267771827883, -0.27551241914860725, 0.28133786629390795, 0.26309621599732225, 0.00078993164908238, 0.0010129668840840227, 0.001370673070360247, 0.0016074429721288557], \"y\": [0.2404071546194866, -0.2624744108863689, -0.0650324841392382, 0.04458946850419509, 0.012943108267128712, 0.009300010050579061, 0.009803280823654899, 0.010463872760562688], \"topics\": [1, 2, 3, 4, 5, 6, 7, 8], \"cluster\": [1, 1, 1, 1, 1, 1, 1, 1], \"Freq\": [29.57383927045501, 24.6906341178389, 21.07876060822109, 15.465627023496204, 2.2977849334691363, 2.2977847169313845, 2.2977847169313845, 2.2977846126568937]}, \"tinfo\": {\"Term\": [\"ppt\", \"playing\", \"slideshow\", \"animations\", \"slack\", \"crashes\", \"adding\", \"application\", \"powerpoint\", \"messages\", \"properly\", \"syncing\", \"mobile\", \"notifications\", \"delivered\", \"devices\", \"powerpoint\", \"application\", \"adding\", \"crashes\", \"animations\", \"devices\", \"delivered\", \"notifications\", \"mobile\", \"syncing\", \"messages\", \"properly\", \"slideshow\", \"playing\", \"ppt\", \"slack\", \"slideshow\", \"playing\", \"ppt\", \"animations\", \"devices\", \"delivered\", \"notifications\", \"mobile\", \"messages\", \"properly\", \"syncing\", \"powerpoint\", \"application\", \"crashes\", \"adding\", \"slack\", \"properly\", \"syncing\", \"messages\", \"slack\", \"delivered\", \"notifications\", \"devices\", \"mobile\", \"powerpoint\", \"application\", \"adding\", \"crashes\", \"slideshow\", \"playing\", \"ppt\", \"animations\", \"devices\", \"delivered\", \"notifications\", \"mobile\", \"slack\", \"properly\", \"syncing\", \"messages\", \"powerpoint\", \"application\", \"adding\", \"crashes\", \"playing\", \"slideshow\", \"ppt\", \"animations\", \"mobile\", \"notifications\", \"delivered\", \"devices\", \"properly\", \"syncing\", \"messages\", \"crashes\", \"adding\", \"application\", \"powerpoint\", \"ppt\", \"slideshow\", \"playing\", \"slack\", \"animations\", \"mobile\", \"devices\", \"notifications\", \"delivered\", \"messages\", \"syncing\", \"properly\", \"powerpoint\", \"application\", \"adding\", \"crashes\", \"playing\", \"ppt\", \"slideshow\", \"slack\", \"animations\", \"devices\", \"notifications\", \"mobile\", \"delivered\", \"syncing\", \"properly\", \"messages\", \"powerpoint\", \"application\", \"adding\", \"crashes\", \"ppt\", \"slideshow\", \"playing\", \"slack\", \"animations\", \"delivered\", \"devices\", \"notifications\", \"mobile\", \"messages\", \"properly\", \"syncing\", \"powerpoint\", \"adding\", \"application\", \"crashes\", \"playing\", \"ppt\", \"slideshow\", \"slack\", \"animations\"], \"Freq\": [29.0, 29.0, 29.0, 55.0, 39.0, 28.0, 28.0, 28.0, 28.0, 25.0, 25.0, 25.0, 16.0, 16.0, 16.0, 16.0, 25.957173060337936, 25.957173060337936, 25.957165251407694, 25.957161346942573, 25.956960266988798, 0.11159447088554862, 0.11159441750418954, 0.11159440225237266, 0.11159437174873889, 0.11141713038475148, 0.11141709988111773, 0.1114170770033924, 0.11141722189565278, 0.1114171685142937, 0.11141709988111773, 0.11159466915916809, 27.019279379482356, 27.019279379482356, 27.019279379482356, 27.019463556116172, 0.10851767739783452, 0.10851766466438362, 0.10851765193093271, 0.10851760099712912, 0.10851779199889261, 0.10851777926544172, 0.10851777926544172, 0.10851770286473632, 0.10851771559818722, 0.10851785566614712, 0.10851776653199081, 0.10851781746579442, 23.01446458817757, 23.01446458817757, 23.01446458817757, 23.014113941719682, 0.1101173154072522, 0.11011729366578035, 0.11011728279504443, 0.11011728279504443, 0.11011744585608325, 0.11011739150240364, 0.11011744585608325, 0.11011747846829102, 0.1101174675975551, 0.1101174675975551, 0.11011742411461141, 0.11011785894404827, 13.440742398048322, 13.440742398048322, 13.440742398048322, 13.440742398048322, 13.441126263671608, 0.11896684626553133, 0.11896683031366866, 0.11896683031366866, 0.118966862217394, 0.11896683031366866, 0.11896683031366866, 0.11896688614518801, 0.11896695792857002, 0.11896693400077601, 0.11896688614518801, 0.11896706161567737, 0.6375271080835674, 0.637526577197576, 0.6375261979932966, 0.637525818789017, 0.6285130052350314, 0.6285126260307519, 0.6285124743490401, 0.6441135830551417, 0.644090375753236, 0.6440621629548409, 0.6440460846933899, 0.6285143324500096, 0.6285141807682979, 0.6285133844393109, 0.6375491019317786, 0.6441406582406983, 0.6353680107222128, 0.6353679348813641, 0.6353679348813641, 0.6353677831996666, 0.6343602754443955, 0.6343600479218492, 0.6343598962401518, 0.6343603512852443, 0.6343605788077905, 0.6343602754443955, 0.6343602754443955, 0.6404476032492025, 0.6404469965224124, 0.6404454038645886, 0.6353756327275126, 0.6404781671112503, 0.6361297941275214, 0.6361297941275214, 0.6361297941275214, 0.6361296424458238, 0.635120655794002, 0.6351204282714558, 0.635120049067212, 0.6351209591573971, 0.6351207316348508, 0.6351208074756995, 0.635120655794002, 0.6381671447680216, 0.6381670689271728, 0.6381668414046265, 0.6361380607800355, 0.6381843606406887, 0.6365753681463008, 0.6365752164646102, 0.6365749889420742, 0.6365749889420742, 0.6355652818480102, 0.6355645992804024, 0.6355645992804024, 0.6365804494829368, 0.6365802219604008, 0.6365792360294118, 0.6365792360294118, 0.6355658885747727, 0.6355658885747727, 0.6355658127339274, 0.6365838623209757, 0.6365893987026836], \"Total\": [29.0, 29.0, 29.0, 55.0, 39.0, 28.0, 28.0, 28.0, 28.0, 25.0, 25.0, 25.0, 16.0, 16.0, 16.0, 16.0, 28.844882915895123, 28.844897707179086, 28.844918974743173, 28.84493731754515, 55.76490132836001, 16.31657059338926, 16.316570787409233, 16.316571041045943, 16.31657155546461, 25.886924257168435, 25.88692439107991, 25.886924219738983, 29.90247346927033, 29.90247469119069, 29.902475151938493, 39.220999349776555, 29.90247346927033, 29.90247469119069, 29.902475151938493, 55.76490132836001, 16.31657059338926, 16.316570787409233, 16.316571041045943, 16.31657155546461, 25.88692439107991, 25.886924219738983, 25.886924257168435, 28.844882915895123, 28.844897707179086, 28.84493731754515, 28.844918974743173, 39.220999349776555, 25.886924219738983, 25.886924257168435, 25.88692439107991, 39.220999349776555, 16.316570787409233, 16.316571041045943, 16.31657059338926, 16.31657155546461, 28.844882915895123, 28.844897707179086, 28.844918974743173, 28.84493731754515, 29.90247346927033, 29.90247469119069, 29.902475151938493, 55.76490132836001, 16.31657059338926, 16.316570787409233, 16.316571041045943, 16.31657155546461, 39.220999349776555, 25.886924219738983, 25.886924257168435, 25.88692439107991, 28.844882915895123, 28.844897707179086, 28.844918974743173, 28.84493731754515, 29.90247469119069, 29.90247346927033, 29.902475151938493, 55.76490132836001, 16.31657155546461, 16.316571041045943, 16.316570787409233, 16.31657059338926, 25.886924219738983, 25.886924257168435, 25.88692439107991, 28.84493731754515, 28.844918974743173, 28.844897707179086, 28.844882915895123, 29.902475151938493, 29.90247346927033, 29.90247469119069, 39.220999349776555, 55.76490132836001, 16.31657155546461, 16.31657059338926, 16.316571041045943, 16.316570787409233, 25.88692439107991, 25.886924257168435, 25.886924219738983, 28.844882915895123, 28.844897707179086, 28.844918974743173, 28.84493731754515, 29.90247469119069, 29.902475151938493, 29.90247346927033, 39.220999349776555, 55.76490132836001, 16.31657059338926, 16.316571041045943, 16.31657155546461, 16.316570787409233, 25.886924257168435, 25.886924219738983, 25.88692439107991, 28.844882915895123, 28.844897707179086, 28.844918974743173, 28.84493731754515, 29.902475151938493, 29.90247346927033, 29.90247469119069, 39.220999349776555, 55.76490132836001, 16.316570787409233, 16.31657059338926, 16.316571041045943, 16.31657155546461, 25.88692439107991, 25.886924219738983, 25.886924257168435, 28.844882915895123, 28.844918974743173, 28.844897707179086, 28.84493731754515, 29.90247469119069, 29.902475151938493, 29.90247346927033, 39.220999349776555, 55.76490132836001], \"Category\": [\"Default\", \"Default\", \"Default\", \"Default\", \"Default\", \"Default\", \"Default\", \"Default\", \"Default\", \"Default\", \"Default\", \"Default\", \"Default\", \"Default\", \"Default\", \"Default\", \"Topic1\", \"Topic1\", \"Topic1\", \"Topic1\", \"Topic1\", \"Topic1\", \"Topic1\", \"Topic1\", \"Topic1\", \"Topic1\", \"Topic1\", \"Topic1\", \"Topic1\", \"Topic1\", \"Topic1\", \"Topic1\", \"Topic2\", \"Topic2\", \"Topic2\", \"Topic2\", \"Topic2\", \"Topic2\", \"Topic2\", \"Topic2\", \"Topic2\", \"Topic2\", \"Topic2\", \"Topic2\", \"Topic2\", \"Topic2\", \"Topic2\", \"Topic2\", \"Topic3\", \"Topic3\", \"Topic3\", \"Topic3\", \"Topic3\", \"Topic3\", \"Topic3\", \"Topic3\", \"Topic3\", \"Topic3\", \"Topic3\", \"Topic3\", \"Topic3\", \"Topic3\", \"Topic3\", \"Topic3\", \"Topic4\", \"Topic4\", \"Topic4\", \"Topic4\", \"Topic4\", \"Topic4\", \"Topic4\", \"Topic4\", \"Topic4\", \"Topic4\", \"Topic4\", \"Topic4\", \"Topic4\", \"Topic4\", \"Topic4\", \"Topic4\", \"Topic5\", \"Topic5\", \"Topic5\", \"Topic5\", \"Topic5\", \"Topic5\", \"Topic5\", \"Topic5\", \"Topic5\", \"Topic5\", \"Topic5\", \"Topic5\", \"Topic5\", \"Topic5\", \"Topic5\", \"Topic5\", \"Topic6\", \"Topic6\", \"Topic6\", \"Topic6\", \"Topic6\", \"Topic6\", \"Topic6\", \"Topic6\", \"Topic6\", \"Topic6\", \"Topic6\", \"Topic6\", \"Topic6\", \"Topic6\", \"Topic6\", \"Topic6\", \"Topic7\", \"Topic7\", \"Topic7\", \"Topic7\", \"Topic7\", \"Topic7\", \"Topic7\", \"Topic7\", \"Topic7\", \"Topic7\", \"Topic7\", \"Topic7\", \"Topic7\", \"Topic7\", \"Topic7\", \"Topic7\", \"Topic8\", \"Topic8\", \"Topic8\", \"Topic8\", \"Topic8\", \"Topic8\", \"Topic8\", \"Topic8\", \"Topic8\", \"Topic8\", \"Topic8\", \"Topic8\", \"Topic8\", \"Topic8\", \"Topic8\", \"Topic8\"], \"logprob\": [16.0, 15.0, 14.0, 13.0, 12.0, 11.0, 10.0, 9.0, 8.0, 7.0, 6.0, 5.0, 4.0, 3.0, 2.0, 1.0, -1.6188, -1.6188, -1.6188, -1.6188, -1.6188, -7.0682, -7.0682, -7.0682, -7.0682, -7.0698, -7.0698, -7.0698, -7.0698, -7.0698, -7.0698, -7.0682, -1.3983, -1.3983, -1.3983, -1.3983, -6.9157, -6.9157, -6.9157, -6.9157, -6.9157, -6.9157, -6.9157, -6.9157, -6.9157, -6.9157, -6.9157, -6.9157, -1.4005, -1.4005, -1.4005, -1.4006, -6.7429, -6.7429, -6.7429, -6.7429, -6.7429, -6.7429, -6.7429, -6.7429, -6.7429, -6.7429, -6.7429, -6.7429, -1.6287, -1.6287, -1.6287, -1.6287, -1.6287, -6.3559, -6.3559, -6.3559, -6.3559, -6.3559, -6.3559, -6.3559, -6.3559, -6.3559, -6.3559, -6.3559, -2.7705, -2.7705, -2.7705, -2.7705, -2.7847, -2.7847, -2.7847, -2.7602, -2.7603, -2.7603, -2.7603, -2.7847, -2.7847, -2.7847, -2.7705, -2.7602, -2.7739, -2.7739, -2.7739, -2.7739, -2.7755, -2.7755, -2.7755, -2.7755, -2.7755, -2.7755, -2.7755, -2.7659, -2.7659, -2.7659, -2.7739, -2.7659, -2.7727, -2.7727, -2.7727, -2.7727, -2.7743, -2.7743, -2.7743, -2.7743, -2.7743, -2.7743, -2.7743, -2.7695, -2.7695, -2.7695, -2.7727, -2.7695, -2.772, -2.772, -2.772, -2.772, -2.7736, -2.7736, -2.7736, -2.772, -2.772, -2.772, -2.772, -2.7736, -2.7736, -2.7736, -2.772, -2.772], \"loglift\": [16.0, 15.0, 14.0, 13.0, 12.0, 11.0, 10.0, 9.0, 8.0, 7.0, 6.0, 5.0, 4.0, 3.0, 2.0, 1.0, 1.1128, 1.1128, 1.1128, 1.1128, 0.4536, -3.7668, -3.7668, -3.7668, -3.7668, -4.2299, -4.2299, -4.2299, -4.3741, -4.3741, -4.3741, -4.6438, 1.2974, 1.2974, 1.2974, 0.6742, -3.6143, -3.6143, -3.6143, -3.6143, -4.0758, -4.0758, -4.0758, -4.184, -4.184, -4.184, -4.184, -4.4913, 1.4393, 1.4393, 1.4393, 1.0238, -3.4415, -3.4415, -3.4415, -3.4415, -4.0112, -4.0112, -4.0112, -4.0112, -4.0472, -4.0472, -4.0472, -4.6704, 1.6727, 1.6727, 1.6727, 1.6727, 0.7957, -3.5161, -3.5161, -3.5161, -3.6243, -3.6243, -3.6243, -3.6243, -3.6603, -3.6603, -3.6603, -4.2835, 0.5309, 0.5309, 0.5309, 0.5309, 0.0551, 0.0551, 0.0551, -0.0286, -0.0286, -0.0287, -0.0287, -0.0891, -0.0891, -0.0891, -0.3461, -0.6878, 0.5275, 0.5275, 0.5275, 0.5275, 0.0643, 0.0643, 0.0643, -0.0438, -0.0438, -0.0438, -0.0438, -0.0703, -0.0703, -0.0703, -0.3495, -0.6935, 0.5287, 0.5287, 0.5287, 0.5287, 0.0655, 0.0655, 0.0655, -0.0426, -0.0426, -0.0426, -0.0427, -0.0739, -0.0739, -0.0739, -0.3483, -0.697, 0.5294, 0.5294, 0.5294, 0.5294, 0.0662, 0.0662, 0.0662, -0.0404, -0.0404, -0.0404, -0.0404, -0.078, -0.078, -0.078, -0.3476, -0.6996]}, \"token.table\": {\"Topic\": [1, 5, 6, 7, 8, 1, 2, 5, 6, 7, 8, 1, 5, 6, 7, 8, 1, 5, 6, 7, 8, 4, 5, 6, 7, 8, 4, 5, 6, 7, 8, 3, 5, 6, 7, 8, 4, 5, 6, 7, 8, 4, 5, 6, 7, 8, 2, 5, 6, 7, 8, 1, 5, 6, 7, 8, 2, 5, 6, 7, 8, 3, 5, 6, 7, 8, 3, 4, 5, 6, 7, 8, 2, 5, 6, 7, 8, 3, 5, 6, 7, 8], \"Freq\": [0.9013719200517011, 0.03466815077121927, 0.03466815077121927, 0.03466815077121927, 0.03466815077121927, 0.4662430916340085, 0.4841755182353165, 0.01793242660130802, 0.01793242660130802, 0.01793242660130802, 0.01793242660130802, 0.901372584640124, 0.034668176332312464, 0.034668176332312464, 0.034668176332312464, 0.034668176332312464, 0.9013713468597245, 0.03466812872537402, 0.03466812872537402, 0.03466812872537402, 0.03466812872537402, 0.7967360402733348, 0.06128738771333344, 0.06128738771333344, 0.06128738771333344, 0.06128738771333344, 0.7967360497473049, 0.06128738844210038, 0.06128738844210038, 0.06128738844210038, 0.06128738844210038, 0.8884794366659222, 0.03862954072460532, 0.03862954072460532, 0.03862954072460532, 0.03862954072460532, 0.7967360027692919, 0.061287384828407065, 0.061287384828407065, 0.061287384828407065, 0.061287384828407065, 0.7967360278882872, 0.061287386760637476, 0.061287386760637476, 0.061287386760637476, 0.061287386760637476, 0.9029353014703575, 0.03344204820260583, 0.03344204820260583, 0.03344204820260583, 0.03344204820260583, 0.9013730468523609, 0.03466819410970619, 0.03466819410970619, 0.03466819410970619, 0.03466819410970619, 0.9029352875576143, 0.03344204768731905, 0.03344204768731905, 0.03344204768731905, 0.03344204768731905, 0.8884794425466089, 0.03862954098028734, 0.03862954098028734, 0.03862954098028734, 0.03862954098028734, 0.5864205497387723, 0.33145509333061046, 0.025496545640816187, 0.025496545640816187, 0.025496545640816187, 0.025496545640816187, 0.9029353383674733, 0.03344204956916568, 0.03344204956916568, 0.03344204956916568, 0.03344204956916568, 0.888479441261972, 0.03862954092443356, 0.03862954092443356, 0.03862954092443356, 0.03862954092443356], \"Term\": [\"adding\", \"adding\", \"adding\", \"adding\", \"adding\", \"animations\", \"animations\", \"animations\", \"animations\", \"animations\", \"animations\", \"application\", \"application\", \"application\", \"application\", \"application\", \"crashes\", \"crashes\", \"crashes\", \"crashes\", \"crashes\", \"delivered\", \"delivered\", \"delivered\", \"delivered\", \"delivered\", \"devices\", \"devices\", \"devices\", \"devices\", \"devices\", \"messages\", \"messages\", \"messages\", \"messages\", \"messages\", \"mobile\", \"mobile\", \"mobile\", \"mobile\", \"mobile\", \"notifications\", \"notifications\", \"notifications\", \"notifications\", \"notifications\", \"playing\", \"playing\", \"playing\", \"playing\", \"playing\", \"powerpoint\", \"powerpoint\", \"powerpoint\", \"powerpoint\", \"powerpoint\", \"ppt\", \"ppt\", \"ppt\", \"ppt\", \"ppt\", \"properly\", \"properly\", \"properly\", \"properly\", \"properly\", \"slack\", \"slack\", \"slack\", \"slack\", \"slack\", \"slack\", \"slideshow\", \"slideshow\", \"slideshow\", \"slideshow\", \"slideshow\", \"syncing\", \"syncing\", \"syncing\", \"syncing\", \"syncing\"]}, \"R\": 16, \"lambda.step\": 0.01, \"plot.opts\": {\"xlab\": \"PC1\", \"ylab\": \"PC2\"}, \"topic.order\": [5, 4, 3, 7, 2, 1, 8, 6]};\n",
              "\n",
              "function LDAvis_load_lib(url, callback){\n",
              "  var s = document.createElement('script');\n",
              "  s.src = url;\n",
              "  s.async = true;\n",
              "  s.onreadystatechange = s.onload = callback;\n",
              "  s.onerror = function(){console.warn(\"failed to load library \" + url);};\n",
              "  document.getElementsByTagName(\"head\")[0].appendChild(s);\n",
              "}\n",
              "\n",
              "if(typeof(LDAvis) !== \"undefined\"){\n",
              "   // already loaded: just create the visualization\n",
              "   !function(LDAvis){\n",
              "       new LDAvis(\"#\" + \"ldavis_el24941321609637448648529431406\", ldavis_el24941321609637448648529431406_data);\n",
              "   }(LDAvis);\n",
              "}else if(typeof define === \"function\" && define.amd){\n",
              "   // require.js is available: use it to load d3/LDAvis\n",
              "   require.config({paths: {d3: \"https://d3js.org/d3.v5\"}});\n",
              "   require([\"d3\"], function(d3){\n",
              "      window.d3 = d3;\n",
              "      LDAvis_load_lib(\"https://cdn.jsdelivr.net/gh/bmabey/pyLDAvis@3.4.0/pyLDAvis/js/ldavis.v3.0.0.js\", function(){\n",
              "        new LDAvis(\"#\" + \"ldavis_el24941321609637448648529431406\", ldavis_el24941321609637448648529431406_data);\n",
              "      });\n",
              "    });\n",
              "}else{\n",
              "    // require.js not available: dynamically load d3 & LDAvis\n",
              "    LDAvis_load_lib(\"https://d3js.org/d3.v5.js\", function(){\n",
              "         LDAvis_load_lib(\"https://cdn.jsdelivr.net/gh/bmabey/pyLDAvis@3.4.0/pyLDAvis/js/ldavis.v3.0.0.js\", function(){\n",
              "                 new LDAvis(\"#\" + \"ldavis_el24941321609637448648529431406\", ldavis_el24941321609637448648529431406_data);\n",
              "            })\n",
              "         });\n",
              "}\n",
              "</script>"
            ]
          },
          "metadata": {},
          "execution_count": 62
        }
      ]
    },
    {
      "cell_type": "markdown",
      "source": [
        "---------------------------------------------------------------------------"
      ],
      "metadata": {
        "id": "-egOAmu8w6V-"
      }
    },
    {
      "cell_type": "code",
      "source": [],
      "metadata": {
        "id": "Up82XwoeAoVM"
      },
      "execution_count": null,
      "outputs": []
    }
  ]
}